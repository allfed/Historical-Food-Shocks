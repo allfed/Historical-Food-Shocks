{
 "cells": [
  {
   "cell_type": "code",
   "execution_count": 1,
   "id": "9b7e70a2",
   "metadata": {},
   "outputs": [
    {
     "name": "stdout",
     "output_type": "stream",
     "text": [
      "/home/florian/Documents/GitHub/Historical-Food-Shocks\n"
     ]
    }
   ],
   "source": [
    "import pandas as pd\n",
    "import matplotlib.pyplot as plt\n",
    "import seaborn as sns\n",
    "import os\n",
    "os.chdir('../')\n",
    "print(os.getcwd())"
   ]
  },
  {
   "cell_type": "code",
   "execution_count": null,
   "id": "09ab200d",
   "metadata": {},
   "outputs": [],
   "source": [
    "# Visualize the fit of the the "
   ]
  }
 ],
 "metadata": {
  "kernelspec": {
   "display_name": "food_shocks",
   "language": "python",
   "name": "python3"
  },
  "language_info": {
   "codemirror_mode": {
    "name": "ipython",
    "version": 3
   },
   "file_extension": ".py",
   "mimetype": "text/x-python",
   "name": "python",
   "nbconvert_exporter": "python",
   "pygments_lexer": "ipython3",
   "version": "3.13.3"
  }
 },
 "nbformat": 4,
 "nbformat_minor": 5
}
